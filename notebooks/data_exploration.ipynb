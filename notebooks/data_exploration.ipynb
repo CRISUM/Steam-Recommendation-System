{
 "cells": [
  {
   "cell_type": "markdown",
   "metadata": {},
   "source": [
    "# Steam游戏推荐系统 - 数据探索\n",
    "\n",
    "这个笔记本用于探索Steam游戏数据集，了解数据结构和特征分布，为构建推荐系统做准备。"
   ]
  },
  {
   "cell_type": "code",
   "execution_count": null,
   "metadata": {},
   "source": [
    "import pandas as pd\n",
    "import numpy as np\n",
    "import matplotlib.pyplot as plt\n",
    "import seaborn as sns\n",
    "import json\n",
    "import sys\n",
    "import os\n",
    "\n",
    "# 添加项目根目录到路径\n",
    "sys.path.append('..')\n",
    "\n",
    "# 设置matplotlib样式\n",
    "plt.style.use('seaborn-v0_8-whitegrid')\n",
    "\n",
    "# 设置pandas显示选项\n",
    "pd.set_option('display.max_columns', None)\n",
    "pd.set_option('display.max_rows', 20)\n",
    "pd.set_option('display.width', 1000)"
   ]
  },
  {
   "cell_type": "markdown",
   "metadata": {},
   "source": [
    "## 1. 加载数据"
   ]
  },
  {
   "cell_type": "code",
   "execution_count": null,
   "metadata": {},
   "source": [
    "# 数据路径\n",
    "data_path = \"../data\"\n",
    "\n",
    "# 读取CSV文件\n",
    "games_df = pd.read_csv(f\"{data_path}/games.csv\")\n",
    "users_df = pd.read_csv(f\"{data_path}/users.csv\")\n",
    "recommendations_df = pd.read_csv(f\"{data_path}/recommendations.csv\")\n",
    "\n",
    "# 读取JSON元数据\n",
    "metadata_list = []\n",
    "with open(f\"{data_path}/games_metadata.json\", 'r', encoding='utf-8') as f:\n",
    "    for line in f:\n",
    "        try:\n",
    "            metadata_list.append(json.loads(line))\n",
    "        except json.JSONDecodeError:\n",
    "            continue\n",
    "\n",
    "metadata_df = pd.DataFrame(metadata_list)\n",
    "\n",
    "print(f\"已加载 {len(games_df)} 个游戏\")\n",
    "print(f\"已加载 {len(users_df)} 个用户\")\n",
    "print(f\"已加载 {len(recommendations_df)} 条评价\")\n",
    "print(f\"已加载 {len(metadata_df)} 条游戏元数据\")"
   ]
  },
  {
   "cell_type": "markdown",
   "metadata": {},
   "source": [
    "## 2. 探索游戏数据"
   ]
  },
  {
   "cell_type": "code",
   "execution_count": null,
   "metadata": {},
   "source": [
    "# 查看游戏数据的前几行\n",
    "games_df.head()"
   ]
  },
  {
   "cell_type": "code",
   "execution_count": null,
   "metadata": {},
   "source": [
    "# 查看数据结构\n",
    "games_df.info()"
   ]
  },
  {
   "cell_type": "code",
   "execution_count": null,
   "metadata": {},
   "source": [
    "# 查看数据统计摘要\n",
    "games_df.describe(include='all')"
   ]
  },
  {
   "cell_type": "code",
   "execution_count": null,
   "metadata": {},
   "source": [
    "# 分析游戏发布年份分布\n",
    "games_df['year'] = pd.to_datetime(games_df['date_release']).dt.year\n",
    "\n",
    "plt.figure(figsize=(12, 6))\n",
    "year_counts = games_df['year'].value_counts().sort_index()\n",
    "year_counts.plot(kind='bar')\n",
    "plt.title('游戏发布年份分布')\n",
    "plt.xlabel('发布年份')\n",
    "plt.ylabel('游戏数量')\n",
    "plt.xticks(rotation=45)\n",
    "plt.tight_layout()\n",
    "plt.show()"
   ]
  },
  {
   "cell_type": "code",
   "execution_count": null,
   "metadata": {},
   "source": [
    "# 分析游戏评分分布\n",
    "plt.figure(figsize=(10, 6))\n",
    "sns.histplot(games_df['positive_ratio'], bins=20)\n",
    "plt.title('游戏好评率分布')\n",
    "plt.xlabel('好评率 (%)')\n",
    "plt.ylabel('游戏数量')\n",
    "plt.tight_layout()\n",
    "plt.show()"
   ]
  },
  {
   "cell_type": "code",
   "execution_count": null,
   "metadata": {},
   "source": [
    "# 分析游戏支持的平台\n",
    "platform_data = {\n",
    "    'Windows': games_df['win'].sum(),\n",
    "    'Mac': games_df['mac'].sum(),\n",
    "    'Linux': games_df['linux'].sum()\n",
    "}\n",
    "\n",
    "plt.figure(figsize=(8, 5))\n",
    "plt.bar(platform_data.keys(), platform_data.values())\n",
    "plt.title('游戏平台支持情况')\n",
    "plt.xlabel('平台')\n",
    "plt.ylabel('游戏数量')\n",
    "for i, v in enumerate(platform_data.values()):\n",
    "    plt.text(i, v + 50, f\"{v} ({v/len(games_df):.1%})\", ha='center')\n",
    "plt.tight_layout()\n",
    "plt.show()"
   ]
  },
  {
   "cell_type": "markdown",
   "metadata": {},
   "source": [
    "## 3. 探索游戏元数据"
   ]
  },
  {
   "cell_type": "code",
   "execution_count": null,
   "metadata": {},
   "source": [
    "# 查看元数据的前几行\n",
    "metadata_df.head()"
   ]
  },
  {
   "cell_type": "code",
   "execution_count": null,
   "metadata": {},
   "source": [
    "# 分析游戏标签\n",
    "# 展开标签列表\n",
    "all_tags = []\n",
    "for tags in metadata_df['tags']:\n",
    "    if isinstance(tags, list):\n",
    "        all_tags.extend(tags)\n",
    "\n",
    "# 计算标签频率\n",
    "tag_counts = pd.Series(all_tags).value_counts()\n",
    "\n",
    "# 显示前20个最常见的标签\n",
    "plt.figure(figsize=(12, 8))\n",
    "tag_counts[:20].plot(kind='barh')\n",
    "plt.title('前20个最常见的游戏标签')\n",
    "plt.xlabel('出现次数')\n",
    "plt.ylabel('标签')\n",
    "plt.tight_layout()\n",
    "plt.show()"
   ]
  },
  {
   "cell_type": "code",
   "execution_count": null,
   "metadata": {},
   "source": [
    "# 分析描述长度\n",
    "metadata_df['description_length'] = metadata_df['description'].apply(lambda x: len(x) if isinstance(x, str) else 0)\n",
    "\n",
    "plt.figure(figsize=(10, 6))\n",
    "sns.histplot(metadata_df['description_length'], bins=50)\n",
    "plt.title('游戏描述长度分布')\n",
    "plt.xlabel('描述长度 (字符数)')\n",
    "plt.ylabel('游戏数量')\n",
    "plt.xlim(0, 2000)  # 限制x轴范围以便更好地查看分布\n",
    "plt.tight_layout()\n",
    "plt.show()"
   ]
  },
  {
   "cell_type": "markdown",
   "metadata": {},
   "source": [
    "## 4. 探索用户数据"
   ]
  },
  {
   "cell_type": "code",
   "execution_count": null,
   "metadata": {},
   "source": [
    "# 查看用户数据的前几行\n",
    "users_df.head()"
   ]
  },
  {
   "cell_type": "code",
   "execution_count": null,
   "metadata": {},
   "source": [
    "# 分析用户拥有的游戏数量分布\n",
    "plt.figure(figsize=(10, 6))\n",
    "sns.histplot(users_df['products'], bins=50)\n",
    "plt.title('用户拥有的游戏数量分布')\n",
    "plt.xlabel('拥有游戏数量')\n",
    "plt.ylabel('用户数量')\n",
    "plt.xlim(0, 500)  # 限制x轴范围以便更好地查看分布\n",
    "plt.tight_layout()\n",
    "plt.show()"
   ]
  },
  {
   "cell_type": "code",
   "execution_count": null,
   "metadata": {},
   "source": [
    "# 分析用户评价数量分布\n",
    "plt.figure(figsize=(10, 6))\n",
    "sns.histplot(users_df['reviews'], bins=20)\n",
    "plt.title('用户评价数量分布')\n",
    "plt.xlabel('评价数量')\n",
    "plt.ylabel('用户数量')\n",
    "plt.tight_layout()\n",
    "plt.show()"
   ]
  },
  {
   "cell_type": "markdown",
   "metadata": {},
   "source": [
    "## 5. 探索评价数据"
   ]
  },
  {
   "cell_type": "code",
   "execution_count": null,
   "metadata": {},
   "source": [
    "# 查看评价数据的前几行\n",
    "recommendations_df.head()"
   ]
  },
  {
   "cell_type": "code",
   "execution_count": null,
   "metadata": {},
   "source": [
    "# 分析游戏时长分布\n",
    "plt.figure(figsize=(10, 6))\n",
    "sns.histplot(recommendations_df['hours'], bins=50)\n",
    "plt.title('游戏时长分布')\n",
    "plt.xlabel('游戏时长 (小时)')\n",
    "plt.ylabel('评价数量')\n",
    "plt.xlim(0, 200)  # 限制x轴范围以便更好地查看分布\n",
    "plt.tight_layout()\n",
    "plt.show()"
   ]
  },
  {
   "cell_type": "code",
   "execution_count": null,
   "metadata": {},
   "source": [
    "# 分析评价是否推荐的比例\n",
    "rec_counts = recommendations_df['is_recommended'].value_counts()\n",
    "plt.figure(figsize=(8, 8))\n",
    "plt.pie(rec_counts, labels=['推荐', '不推荐'], \n",
    "        autopct='%1.1f%%', startangle=90, colors=['#66b3ff', '#ff9999'])\n",
    "plt.title('游戏评价推荐比例')\n",
    "plt.tight_layout()\n",
    "plt.show()"
   ]
  },
  {
   "cell_type": "code",
   "execution_count": null,
   "metadata": {},
   "source": [
    "# 分析游戏时长与评价的关系\n",
    "plt.figure(figsize=(10, 6))\n",
    "sns.boxplot(x='is_recommended', y='hours', data=recommendations_df)\n",
    "plt.title('游戏时长与评价关系')\n",
    "plt.xlabel('是否推荐')\n",
    "plt.ylabel('游戏时长 (小时)')\n",
    "plt.ylim(0, 100)  # 限制y轴范围以便更好地查看分布\n",
    "plt.tight_layout()\n",
    "plt.show()"
   ]
  },
  {
   "cell_type": "markdown",
   "metadata": {},
   "source": [
    "## 6. 数据集交叉分析"
   ]
  },
  {
   "cell_type": "code",
   "execution_count": null,
   "metadata": {},
   "source": [
    "# 合并游戏和评价数据\n",
    "game_rec_df = pd.merge(recommendations_df, games_df, on='app_id')"
   ]
  },
  {
   "cell_type": "code",
   "execution_count": null,
   "metadata": {},
   "source": [
    "# 分析不同评分游戏的评价情况\n",
    "plt.figure(figsize=(12, 6))\n",
    "sns.barplot(x='rating', y='is_recommended', data=game_rec_df)\n",
    "plt.title('游戏评分与用户推荐率的关系')\n",
    "plt.xlabel('游戏评分')\n",
    "plt.ylabel('推荐比例')\n",
    "plt.tight_layout()\n",
    "plt.show()"
   ]
  },
  {
   "cell_type": "code",
   "execution_count": null,
   "metadata": {},
   "source": [
    "# 分析用户-游戏交互稀疏程度\n",
    "unique_users = recommendations_df['user_id'].nunique()\n",
    "unique_games = recommendations_df['app_id'].nunique()\n",
    "total_interactions = len(recommendations_df)\n",
    "sparsity = 1 - (total_interactions / (unique_users * unique_games))\n",
    "\n",
    "print(f\"唯一用户数: {unique_users}\")\n",
    "print(f\"唯一游戏数: {unique_games}\")\n",
    "print(f\"总交互数: {total_interactions}\")\n",
    "print(f\"数据稀疏度: {sparsity:.4f} ({sparsity*100:.2f}%)\")"
   ]
  },
  {
   "cell_type": "markdown",
   "metadata": {},
   "source": [
    "## 7. 数据预处理探索"
   ]
  },
  {
   "cell_type": "code",
   "execution_count": null,
   "metadata": {},
   "source": [
    "# 探索如何将游戏时长转换为评分\n",
    "\n",
    "# 创建不同转换函数\n",
    "recommendations_df['rating_linear'] = recommendations_df['hours'] / 10.0  # 线性转换\n",
    "recommendations_df['rating_log'] = np.log1p(recommendations_df['hours'])  # 对数转换\n",
    "recommendations_df['rating_hybrid'] = recommendations_df.apply(\n",
    "    lambda row: min(10.0, row['hours'] / 10) * (1.5 if row['is_recommended'] else 0.5),\n",
    "    axis=1\n",
    ")  # 混合转换\n",
    "\n",
    "# 可视化比较不同转换方法\n",
    "plt.figure(figsize=(15, 5))\n",
    "\n",
    "plt.subplot(1, 3, 1)\n",
    "sns.histplot(recommendations_df['rating_linear'].clip(0, 10), bins=20)\n",
    "plt.title('线性转换评分分布')\n",
    "plt.xlabel('评分')\n",
    "plt.xlim(0, 10)\n",
    "\n",
    "plt.subplot(1, 3, 2)\n",
    "sns.histplot(recommendations_df['rating_log'].clip(0, 10), bins=20)\n",
    "plt.title('对数转换评分分布')\n",
    "plt.xlabel('评分')\n",
    "plt.xlim(0, 10)\n",
    "\n",
    "plt.subplot(1, 3, 3)\n",
    "sns.histplot(recommendations_df['rating_hybrid'].clip(0, 10), bins=20)\n",
    "plt.title('混合转换评分分布')\n",
    "plt.xlabel('评分')\n",
    "plt.xlim(0, 10)\n",
    "\n",
    "plt.tight_layout()\n",
    "plt.show()"
   ]
  },
  {
   "cell_type": "markdown",
   "metadata": {},
   "source": [
    "## 8. 总结与洞察\n",
    "\n",
    "通过对Steam游戏数据集的探索，我们得到以下主要洞察：\n",
    "\n",
    "1. **数据规模**：数据集包含了大量游戏、用户和评价信息，为构建推荐系统提供了丰富的基础。\n",
    "\n",
    "2. **数据稀疏性**：用户-游戏交互矩阵非常稀疏，这是推荐系统常见的挑战。\n",
    "\n",
    "3. **游戏特征**：游戏有丰富的元数据，包括描述和标签，可用于基于内容的推荐。\n",
    "\n",
    "4. **评价特征**：用户评价包含游戏时长和是否推荐，可以结合这两个信息创建更准确的隐式反馈。\n",
    "\n",
    "5. **用户行为**：用户拥有的游戏数量和评价数量分布不均，需要考虑处理长尾分布的策略。\n",
    "\n",
    "基于以上发现，我们计划采用混合推荐策略，结合协同过滤和基于内容的方法，并特别关注冷启动问题的解决方案。"
   ]
  }
 ],
 "metadata": {
  "kernelspec": {
   "display_name": "Python 3",
   "language": "python",
   "name": "python3"
  },
  "language_info": {
   "codemirror_mode": {
    "name": "ipython",
    "version": 3
   },
   "file_extension": ".py",
   "mimetype": "text/x-python",
   "name": "python",
   "nbconvert_exporter": "python",
   "pygments_lexer": "ipython3",
   "version": "3.8.10"
  }
 },
 "nbformat": 4,
 "nbformat_minor": 4
}